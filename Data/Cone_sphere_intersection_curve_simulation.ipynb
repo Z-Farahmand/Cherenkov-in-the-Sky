{
 "cells": [
  {
   "cell_type": "markdown",
   "metadata": {},
   "source": [
    "# cone sphere intersection"
   ]
  },
  {
   "cell_type": "markdown",
   "metadata": {},
   "source": [
    "$(r-r_0) \\cdot n = |r - r_0| \\cos{\\theta_{C_s}}$"
   ]
  },
  {
   "cell_type": "markdown",
   "metadata": {},
   "source": [
    "$r = R (\\sin{\\theta}\\cos{\\phi} \\hat{x} + \\sin{\\theta}\\sin{\\phi} \\hat{y} + \\cos{\\theta} \\hat{z} $"
   ]
  },
  {
   "cell_type": "markdown",
   "metadata": {},
   "source": [
    "$(R \\sin{\\theta} \\cos{\\phi} - x_0) n_x + (R \\sin{\\theta} \\sin{\\phi}- y_0) n_y + (R \\cos{\\theta} - z_0) n_z = \\cos{\\theta_{C_s}} \\bigg((R \\sin{\\theta} \\cos{\\phi} - x_0)^2 + (R \\sin{\\theta} \\sin{\\phi}- y_0)^2 + (R \\cos{\\theta} - z_0)^2\\bigg)^{\\frac{1}{2}} $"
   ]
  },
  {
   "cell_type": "markdown",
   "metadata": {},
   "source": [
    "f = $(R \\sin{\\theta} \\cos{\\phi} - x_0) n_x + (R \\sin{\\theta} \\sin{\\phi}- y_0) n_y + (R \\cos{\\theta} - z_0) n_z - \\bigg((R \\sin{\\theta} \\cos{\\phi} - x_0)^2 + (R \\sin{\\theta} \\sin{\\phi}- y_0)^2 + (R \\cos{\\theta} - z_0)^2\\bigg)^{\\frac{1}{2}} \\\\\\cos{\\theta_{C_s}} = 0 $"
   ]
  },
  {
   "cell_type": "markdown",
   "metadata": {},
   "source": [
    "$error = ((\\frac{\\partial f}{\\partial \\theta} \\Delta \\theta )^2 + (\\frac{\\partial f}{\\partial \\phi} \\Delta \\phi )^2)^{\\frac{1}{2}}$"
   ]
  },
  {
   "cell_type": "markdown",
   "metadata": {},
   "source": [
    "# find cone-sphere intersection curves"
   ]
  },
  {
   "cell_type": "markdown",
   "metadata": {},
   "source": [
    "We just use following functions to make data:\n",
    "random_initializing, space, cone_sphere_intersection_with_error, data_genarate_with_error_random"
   ]
  },
  {
   "cell_type": "code",
   "execution_count": 1,
   "metadata": {},
   "outputs": [],
   "source": [
    "import numpy as np\n",
    "import matplotlib.pylab as plt\n",
    "from math import cos as cos\n",
    "from math import sin as sin\n",
    "from math import pi as pi\n",
    "import math\n",
    "import pandas as pd\n",
    "from PIL import Image # save data as image"
   ]
  },
  {
   "cell_type": "code",
   "execution_count": 2,
   "metadata": {},
   "outputs": [],
   "source": [
    "def random_initializing():\n",
    "    '''\n",
    "    set a random cone's parameters\n",
    "    return : R_0 = (x_0,y_0,z_0),n = (n_x,n_y,n_z),thta_cs\n",
    "    \n",
    "    '''\n",
    "    theta_cs = np.random.uniform(0,pi/2)\n",
    "    theta = np.random.uniform(0,pi)\n",
    "    phi = np.random.uniform(0,2*pi)\n",
    "    x_0 = np.random.uniform(-1,1)\n",
    "    y_0 = np.random.uniform(-1,1)\n",
    "    z_0 = np.random.uniform(-1,1)\n",
    "    n_x = sin(theta) * cos(phi) \n",
    "    n_y = sin(theta) * sin(phi) \n",
    "    n_z = cos(theta) \n",
    "    \n",
    "    while ~(np.cross([x_0,y_0,z_0] , [n_x,n_y,n_z]).any()): # to dont generate circle intersections\n",
    "        theta_cs = np.random.uniform(0,pi/2)\n",
    "        theta = np.random.uniform(0,pi)\n",
    "        phi = np.random.uniform(0,2*pi)\n",
    "        x_0 = np.random.uniform(-1,1)\n",
    "        y_0 = np.random.uniform(-1,1)\n",
    "        z_0 = np.random.uniform(-1,1)\n",
    "        n_x = sin(theta) * cos(phi) \n",
    "        n_y = sin(theta) * sin(phi) \n",
    "        n_z = cos(theta)\n",
    "    \n",
    "    return x_0,y_0,z_0,theta_cs,n_x,n_y,n_z"
   ]
  },
  {
   "cell_type": "code",
   "execution_count": 3,
   "metadata": {},
   "outputs": [],
   "source": [
    "def initializing(theta,phi,x_0,y_0,z_0,theta_c):\n",
    "    '''\n",
    "    set a cone's parameters\n",
    "    input : theta and phi (degree) for direction vector\n",
    "                n_x = sin(theta) cos(phi)\n",
    "                n_y = sin(theta) sin(phi)\n",
    "                n_z = cos(theta)\n",
    "            theta_cs(degree)\n",
    "            \n",
    "    return : R_0 = (x_0,y_0,z_0),n = (n_x,n_y,n_z),thta_cs(radian)\n",
    "    \n",
    "    '''\n",
    "    \n",
    "    theta_n = (theta / 180) * pi\n",
    "    phi_n = (phi / 180) * pi\n",
    "    theta_cs = (theta_c / 180) * pi \n",
    "    #Cone's pointing vector\n",
    "    n_x = sin(theta_n) * cos(phi_n) \n",
    "    n_y = sin(theta_n) * sin(phi_n) \n",
    "    n_z = cos(theta_n) \n",
    "    \n",
    "    return x_0,y_0,z_0,theta_cs,n_x,n_y,n_z"
   ]
  },
  {
   "cell_type": "code",
   "execution_count": 4,
   "metadata": {},
   "outputs": [],
   "source": [
    "def space(mesh_theta,mesh_phi):\n",
    "    '''\n",
    "    discrete the parameter space: divide theta into (mesh_theta = N_theta = pi / delta_theta) parts\n",
    "                                  divide phi into (mesh_phi = N_phi = 2 pi / delta_phi) parts\n",
    "    return: a mesh_theta*mesh_phi dimension matrix wich its elements are theta,phi of that point\n",
    "    \n",
    "    '''\n",
    "    #Meshgrid\n",
    "    phi = np.linspace(0, 2*pi , mesh_phi)\n",
    "    theta = np.linspace(0, pi , mesh_theta)\n",
    "    phi_s, theta_s = np.meshgrid(phi,theta)\n",
    "    return phi_s,theta_s"
   ]
  },
  {
   "cell_type": "code",
   "execution_count": 5,
   "metadata": {},
   "outputs": [],
   "source": [
    "def cone_sphere_intersection(x_0,y_0,z_0,theta_cs,n_x,n_y,n_z,phi_s,theta_s,error):\n",
    "    '''\n",
    "    find intersection curve's points numerically(with a constant error) and show them with a matrix which its nonzero(1) elements are intersection points\n",
    "    input : x_0,y_0,z_0,theta_cs,n_x,n_y,n_z : cone parameters\n",
    "            phi_s,theta_s : from \"space\" function - discrete parameter space\n",
    "            error : the threshold for flagging and element as a intersection point\n",
    "    return : a mesh_theta*mesh_phi dimension matrix which its nonzero(1) elements are intersection points\n",
    "    \n",
    "    '''\n",
    "    \n",
    "    sin_theta = np.sin(theta_s)\n",
    "    cos_theta = np.cos(theta_s) \n",
    "    sin_phi = np.sin(phi_s)\n",
    "    cos_phi = np.cos(phi_s)\n",
    "    \n",
    "    X = sin_theta * cos_phi - x_0\n",
    "    Y = sin_theta * sin_phi - y_0\n",
    "    Z = cos_theta - z_0\n",
    "    \n",
    "    function = X * n_x + Y * n_y + Z * n_z - (X**2 + Y**2 + Z**2)**0.5 * np.cos(theta_cs)\n",
    "    function[abs(function) <= error] = 0\n",
    "    function[function != 0] = -1\n",
    "    function = function + 1\n",
    "    \n",
    "    return function"
   ]
  },
  {
   "cell_type": "code",
   "execution_count": 6,
   "metadata": {},
   "outputs": [],
   "source": [
    "def cone_sphere_intersection_with_error(x_0,y_0,z_0,theta_cs,n_x,n_y,n_z,phi_s,theta_s,mesh_theta,mesh_phi):\n",
    "    '''\n",
    "    find intersection curve's points numerically(by finding error for all possible theta and phi) and show them with a matrix which its nonzero(1) elements are intersection points\n",
    "    input : x_0,y_0,z_0,theta_cs,n_x,n_y,n_z : cone parameters\n",
    "            phi_s,theta_s : from \"space\" function - discrete parameter space\n",
    "            mesh_theta,mesh_phi : they use for calculate the error (find delta_theta and delta_phi)\n",
    "    return : a mesh_theta*mesh_phi dimension matrix which its nonzero(1) elements are intersection points\n",
    "    \n",
    "    '''\n",
    "    \n",
    "    delta_theta = pi / mesh_theta\n",
    "    delta_phi = 2 * pi / mesh_phi\n",
    "    \n",
    "    sin_theta = np.sin(theta_s)\n",
    "    cos_theta = np.cos(theta_s) \n",
    "    sin_phi = np.sin(phi_s)\n",
    "    cos_phi = np.cos(phi_s)\n",
    "    \n",
    "    X = sin_theta * cos_phi - x_0\n",
    "    Y = sin_theta * sin_phi - y_0\n",
    "    Z = cos_theta - z_0\n",
    "    rsize = np.sqrt(X**2 + Y**2 + Z**2)\n",
    "    \n",
    "    function = X * n_x + Y * n_y + Z * n_z - np.multiply(rsize,np.cos(theta_cs))\n",
    "    \n",
    "    deltaf_deltatheta = cos_theta * (cos_phi * n_x + sin_phi * n_y) - sin_theta * n_z + np.cos(theta_cs) * np.divide((cos_theta * (cos_phi * x_0 + sin_phi * y_0) - sin_theta * z_0) , rsize)\n",
    "    deltaf_deltaphi = sin_theta * (cos_phi * n_y - sin_phi * n_x) + np.cos(theta_cs) * sin_theta * np.divide((cos_phi * y_0 - sin_phi * x_0) , rsize)\n",
    "    error_function = np.sqrt(np.add(np.multiply(deltaf_deltaphi,deltaf_deltaphi) * (delta_phi) ** 2,np.multiply(deltaf_deltatheta,deltaf_deltatheta) * (delta_theta) ** 2))\n",
    "    \n",
    "    function[abs(function) <= error_function] = 0\n",
    "    function[abs(function) != 0] = -1\n",
    "    function = function + 1\n",
    "    \n",
    "    if function.any() == 0:\n",
    "        theta_cs = -1 # for cones which have no interaction\n",
    "    \n",
    "    return function, theta_cs"
   ]
  },
  {
   "cell_type": "code",
   "execution_count": 7,
   "metadata": {},
   "outputs": [],
   "source": [
    "def cone_sphere_intersection_for_cone(x_0,y_0,z_0,theta_cs,n_x,n_y,n_z,phi_s,theta_s,error):\n",
    "    '''\n",
    "    find intersection curve's points numerically(with a constant error) and show them with a matrix which its nonzero(1) elements are intersection points\n",
    "    input : x_0,y_0,z_0,theta_cs,n_x,n_y,n_z : cone parameters\n",
    "            phi_s,theta_s : from \"space\" function - discrete parameter space\n",
    "            error : the threshold for flagging and element as a intersection point\n",
    "    return : a mesh_theta*mesh_phi dimension matrix which its nonzero(1) elements are intersection points\n",
    "    \n",
    "    '''\n",
    "    \n",
    "    sin_theta = np.sin(theta_s)\n",
    "    cos_theta = np.cos(theta_s) \n",
    "    sin_phi = np.sin(phi_s)\n",
    "    cos_phi = np.cos(phi_s)\n",
    "    \n",
    "    X = sin_theta * cos_phi \n",
    "    Y = sin_theta * sin_phi \n",
    "    Z = cos_theta \n",
    "    \n",
    "    function = X * n_x + Y * n_y + Z * n_z - np.cos(theta_cs)\n",
    "    function[abs(function) <= error] = 0\n",
    "    function[function != 0] = -1\n",
    "    function = function + 1\n",
    "    \n",
    "    return function"
   ]
  },
  {
   "cell_type": "code",
   "execution_count": 8,
   "metadata": {},
   "outputs": [],
   "source": [
    "def data_genarate_for_cone(error,mesh_theta,mesh_phi,theta,phi,x_0,y_0,z_0,theta_c):\n",
    "    '''\n",
    "    find intersection curve's points numerically(with a constant error) and show them with a matrix which its nonzero(1) elements are intersection points\n",
    "    input : error : the threshold for flagging and element as a intersection point\n",
    "            mesh_theta,mesh_phi : use as input for \"space\" function\n",
    "            x_0,y_0,z_0,theta,phi,theta_c : the cone's parameters\n",
    "    return : intersection :a mesh_theta*mesh_phi dimension matrix which its nonzero(1) elements are intersection points\n",
    "        \n",
    "    \n",
    "    '''\n",
    "        \n",
    "    phi_s,theta_s = space(mesh_theta,mesh_phi)\n",
    "    x_0,y_0,z_0,theta_cs,n_x,n_y,n_z = initializing(theta,phi,x_0,y_0,z_0,theta_c)\n",
    "    intersection = cone_sphere_intersection_for_cone(x_0,y_0,z_0,theta_cs,n_x,n_y,n_z,phi_s,theta_s,error)\n",
    "    return intersection"
   ]
  },
  {
   "cell_type": "code",
   "execution_count": 9,
   "metadata": {},
   "outputs": [],
   "source": [
    "def data_genarate_random(error,mesh_theta,mesh_phi):\n",
    "    '''\n",
    "    find intersection curve's points numerically(with a constant error) for a random cone and show them with a matrix which its nonzero(1) elements are intersection points\n",
    "    input : error : the threshold for flagging and element as a intersection point\n",
    "            mesh_theta,mesh_phi : use as input for \"space\" function\n",
    "    return : intersection :a mesh_theta*mesh_phi dimension matrix which its nonzero(1) elements are intersection points\n",
    "             x_0,y_0,z_0,theta_cs,n_x,n_y,n_z : the random cone's parameters\n",
    "    \n",
    "    '''\n",
    "    \n",
    "    phi_s,theta_s = space(mesh_theta,mesh_phi)\n",
    "    x_0,y_0,z_0,theta_cs,n_x,n_y,n_z = random_initializing()\n",
    "    intersection = cone_sphere_intersection(x_0,y_0,z_0,theta_cs,n_x,n_y,n_z,phi_s,theta_s,error)\n",
    "    return intersection,x_0,y_0,z_0,theta_cs,n_x,n_y,n_z"
   ]
  },
  {
   "cell_type": "code",
   "execution_count": 10,
   "metadata": {},
   "outputs": [],
   "source": [
    "def data_genarate_with_error_random(mesh_theta,mesh_phi,phi_s,theta_s):\n",
    "    '''\n",
    "    find intersection curve's points numerically(by finding error for all possible theta and phi) for a random cone and show them with a matrix which its nonzero(1) elements are intersection points\n",
    "    input :mesh_theta,mesh_phi : they use for calculate the error (find delta_theta and delta_phi)\n",
    "            phi_s,theta_s : from space() function\n",
    "    return : intersection :a mesh_theta*mesh_phi dimension matrix which its nonzero(1) elements are intersection points\n",
    "             x_0,y_0,z_0,theta_cs,n_x,n_y,n_z : the random cone's parameters\n",
    "    '''\n",
    "    x_0,y_0,z_0,theta_cs,n_x,n_y,n_z = random_initializing()\n",
    "    intersection, theta_cs = cone_sphere_intersection_with_error(x_0,y_0,z_0,theta_cs,n_x,n_y,n_z,phi_s,theta_s,mesh_theta,mesh_phi)\n",
    "    return intersection,x_0,y_0,z_0,theta_cs,n_x,n_y,n_z"
   ]
  },
  {
   "cell_type": "code",
   "execution_count": 11,
   "metadata": {},
   "outputs": [],
   "source": [
    "def data_genarate(error,mesh_theta,mesh_phi,theta,phi,x_0,y_0,z_0,theta_c):\n",
    "    '''\n",
    "    find intersection curve's points numerically(with a constant error) and show them with a matrix which its nonzero(1) elements are intersection points\n",
    "    input : error : the threshold for flagging and element as a intersection point\n",
    "            mesh_theta,mesh_phi : use as input for \"space\" function\n",
    "            x_0,y_0,z_0,theta,phi,theta_c : the cone's parameters\n",
    "    return : intersection :a mesh_theta*mesh_phi dimension matrix which its nonzero(1) elements are intersection points\n",
    "        \n",
    "    \n",
    "    '''\n",
    "        \n",
    "    phi_s,theta_s = space(mesh_theta,mesh_phi)\n",
    "    x_0,y_0,z_0,theta_cs,n_x,n_y,n_z = initializing(theta,phi,x_0,y_0,z_0,theta_c)\n",
    "    intersection = cone_sphere_intersection(x_0,y_0,z_0,theta_cs,n_x,n_y,n_z,phi_s,theta_s,error)\n",
    "    return intersection"
   ]
  },
  {
   "cell_type": "code",
   "execution_count": 12,
   "metadata": {},
   "outputs": [],
   "source": [
    "def data_genarate_with_error(mesh_theta,mesh_phi,theta,phi,x_0,y_0,z_0,theta_c):\n",
    "    '''\n",
    "    find intersection curve's points numerically(by finding error for all possible theta and phi) and show them with a matrix which its nonzero(1) elements are intersection points\n",
    "    input :mesh_theta,mesh_phi : they use for calculate the error (find delta_theta and delta_phi)\n",
    "           x_0,y_0,z_0,theta,phi,theta_c : the cone's parameters\n",
    "    return : intersection :a mesh_theta*mesh_phi dimension matrix which its nonzero(1) elements are intersection points\n",
    "             \n",
    "    '''\n",
    "    \n",
    "    phi_s,theta_s = space(mesh_theta,mesh_phi)\n",
    "    x_0,y_0,z_0,theta_cs,n_x,n_y,n_z = initializing(theta,phi,x_0,y_0,z_0,theta_c)\n",
    "    intersection = cone_sphere_intersection_with_error(x_0,y_0,z_0,theta_cs,n_x,n_y,n_z,phi_s,theta_s,mesh_theta,mesh_phi)\n",
    "    return intersection"
   ]
  },
  {
   "cell_type": "markdown",
   "metadata": {},
   "source": [
    "# creating data"
   ]
  },
  {
   "cell_type": "code",
   "execution_count": 22,
   "metadata": {},
   "outputs": [],
   "source": [
    "#the intersection matrix dimension\n",
    "N_size = 500\n",
    "mesh_theta,mesh_phi = N_size, 2*N_size \n",
    "N_samples = 20"
   ]
  },
  {
   "cell_type": "code",
   "execution_count": 23,
   "metadata": {},
   "outputs": [
    {
     "name": "stdout",
     "output_type": "stream",
     "text": [
      "Wall time: 7.34 ms\n"
     ]
    }
   ],
   "source": [
    "%%time\n",
    "phi_s,theta_s = space(mesh_theta,mesh_phi)"
   ]
  },
  {
   "cell_type": "code",
   "execution_count": 24,
   "metadata": {},
   "outputs": [],
   "source": [
    "labels = pd.DataFrame(columns = ['coneID','theta_cs','n_x','n_y','n_z','x_0','y_0','z_0'])"
   ]
  },
  {
   "cell_type": "code",
   "execution_count": 25,
   "metadata": {},
   "outputs": [
    {
     "name": "stdout",
     "output_type": "stream",
     "text": [
      "Wall time: 2.91 s\n"
     ]
    }
   ],
   "source": [
    "%%time\n",
    "for i in range (N_samples):\n",
    "    intersection = np.zeros((mesh_theta,mesh_phi),dtype=bytes)\n",
    "    intersection,x_0,y_0,z_0,theta_cs,n_x,n_y,n_z = data_genarate_with_error_random(mesh_theta,mesh_phi,phi_s,theta_s)\n",
    "    while(theta_cs == -1): # dont save cones without intersection\n",
    "        intersection,x_0,y_0,z_0,theta_cs,n_x,n_y,n_z = data_genarate_with_error_random(mesh_theta,mesh_phi,phi_s,theta_s)\n",
    "    labels = labels.append({'coneID':int(i+1) , 'theta_cs': theta_cs ,'n_x': n_x,\n",
    "                            'n_y': n_y ,'n_z': n_z ,'x_0': x_0 ,'y_0': y_0 ,'z_0': z_0 } ,ignore_index=True)\n",
    "    im = Image.fromarray(intersection.reshape((mesh_theta,mesh_phi)).astype('uint8')*255) # save matrix as black and white image\n",
    "    im.save(labels['coneID'][i].astype(str)+'.jpg')"
   ]
  },
  {
   "cell_type": "code",
   "execution_count": 26,
   "metadata": {},
   "outputs": [],
   "source": [
    "# labels.to_csv('labels.csv',index=False)"
   ]
  },
  {
   "cell_type": "code",
   "execution_count": 27,
   "metadata": {},
   "outputs": [
    {
     "data": {
      "text/html": [
       "<div>\n",
       "<style scoped>\n",
       "    .dataframe tbody tr th:only-of-type {\n",
       "        vertical-align: middle;\n",
       "    }\n",
       "\n",
       "    .dataframe tbody tr th {\n",
       "        vertical-align: top;\n",
       "    }\n",
       "\n",
       "    .dataframe thead th {\n",
       "        text-align: right;\n",
       "    }\n",
       "</style>\n",
       "<table border=\"1\" class=\"dataframe\">\n",
       "  <thead>\n",
       "    <tr style=\"text-align: right;\">\n",
       "      <th></th>\n",
       "      <th>coneID</th>\n",
       "      <th>theta_cs</th>\n",
       "      <th>n_x</th>\n",
       "      <th>n_y</th>\n",
       "      <th>n_z</th>\n",
       "      <th>x_0</th>\n",
       "      <th>y_0</th>\n",
       "      <th>z_0</th>\n",
       "    </tr>\n",
       "  </thead>\n",
       "  <tbody>\n",
       "    <tr>\n",
       "      <td>0</td>\n",
       "      <td>1.0</td>\n",
       "      <td>1.528285</td>\n",
       "      <td>0.689681</td>\n",
       "      <td>0.293688</td>\n",
       "      <td>-0.661882</td>\n",
       "      <td>-0.835543</td>\n",
       "      <td>0.614606</td>\n",
       "      <td>-0.985250</td>\n",
       "    </tr>\n",
       "    <tr>\n",
       "      <td>1</td>\n",
       "      <td>2.0</td>\n",
       "      <td>0.497786</td>\n",
       "      <td>0.809610</td>\n",
       "      <td>-0.184692</td>\n",
       "      <td>0.557155</td>\n",
       "      <td>-0.535838</td>\n",
       "      <td>0.170713</td>\n",
       "      <td>-0.202396</td>\n",
       "    </tr>\n",
       "    <tr>\n",
       "      <td>2</td>\n",
       "      <td>3.0</td>\n",
       "      <td>1.023870</td>\n",
       "      <td>-0.438729</td>\n",
       "      <td>0.067702</td>\n",
       "      <td>0.896065</td>\n",
       "      <td>0.709450</td>\n",
       "      <td>0.621432</td>\n",
       "      <td>0.512969</td>\n",
       "    </tr>\n",
       "    <tr>\n",
       "      <td>3</td>\n",
       "      <td>4.0</td>\n",
       "      <td>0.993477</td>\n",
       "      <td>0.139168</td>\n",
       "      <td>0.330548</td>\n",
       "      <td>-0.933472</td>\n",
       "      <td>0.208993</td>\n",
       "      <td>-0.309915</td>\n",
       "      <td>0.122158</td>\n",
       "    </tr>\n",
       "    <tr>\n",
       "      <td>4</td>\n",
       "      <td>5.0</td>\n",
       "      <td>0.365879</td>\n",
       "      <td>0.675099</td>\n",
       "      <td>-0.634149</td>\n",
       "      <td>-0.376956</td>\n",
       "      <td>0.237389</td>\n",
       "      <td>0.253514</td>\n",
       "      <td>0.836600</td>\n",
       "    </tr>\n",
       "  </tbody>\n",
       "</table>\n",
       "</div>"
      ],
      "text/plain": [
       "   coneID  theta_cs       n_x       n_y       n_z       x_0       y_0  \\\n",
       "0     1.0  1.528285  0.689681  0.293688 -0.661882 -0.835543  0.614606   \n",
       "1     2.0  0.497786  0.809610 -0.184692  0.557155 -0.535838  0.170713   \n",
       "2     3.0  1.023870 -0.438729  0.067702  0.896065  0.709450  0.621432   \n",
       "3     4.0  0.993477  0.139168  0.330548 -0.933472  0.208993 -0.309915   \n",
       "4     5.0  0.365879  0.675099 -0.634149 -0.376956  0.237389  0.253514   \n",
       "\n",
       "        z_0  \n",
       "0 -0.985250  \n",
       "1 -0.202396  \n",
       "2  0.512969  \n",
       "3  0.122158  \n",
       "4  0.836600  "
      ]
     },
     "execution_count": 27,
     "metadata": {},
     "output_type": "execute_result"
    }
   ],
   "source": [
    "labels.head()"
   ]
  },
  {
   "cell_type": "code",
   "execution_count": 34,
   "metadata": {},
   "outputs": [
    {
     "data": {
      "text/plain": [
       "<matplotlib.image.AxesImage at 0x206818e5fc8>"
      ]
     },
     "execution_count": 34,
     "metadata": {},
     "output_type": "execute_result"
    },
    {
     "data": {
      "image/png": "[encoded data removed]",
      "text/plain": [
       "<Figure size 432x288 with 1 Axes>"
      ]
     },
     "metadata": {
      "needs_background": "light"
     },
     "output_type": "display_data"
    }
   ],
   "source": [
    "# example \n",
    "test = Image.open('9.0.jpg')\n",
    "plt.imshow(test)"
   ]
  },
  {
   "cell_type": "code",
   "execution_count": null,
   "metadata": {},
   "outputs": [],
   "source": []
  },
  {
   "cell_type": "code",
   "execution_count": null,
   "metadata": {},
   "outputs": [],
   "source": []
  },
  {
   "cell_type": "code",
   "execution_count": null,
   "metadata": {},
   "outputs": [],
   "source": []
  }
 ],
 "metadata": {
  "kernelspec": {
   "display_name": "Python 3",
   "language": "python",
   "name": "python3"
  },
  "language_info": {
   "codemirror_mode": {
    "name": "ipython",
    "version": 3
   },
   "file_extension": ".py",
   "mimetype": "text/x-python",
   "name": "python",
   "nbconvert_exporter": "python",
   "pygments_lexer": "ipython3",
   "version": "3.7.4"
  }
 },
 "nbformat": 4,
 "nbformat_minor": 2
}
