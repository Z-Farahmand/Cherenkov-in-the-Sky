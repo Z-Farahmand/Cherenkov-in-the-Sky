{
 "cells": [
  {
   "cell_type": "markdown",
   "metadata": {},
   "source": [
    "### *This is not the last and complete version."
   ]
  },
  {
   "cell_type": "code",
   "execution_count": 1,
   "metadata": {},
   "outputs": [],
   "source": [
    "import numpy as np\n",
    "import matplotlib.pylab as plt\n",
    "import pandas as pd\n",
    "from math import cos as cos\n",
    "from math import sin as sin\n",
    "from math import pi as pi\n",
    "import random\n",
    "\n",
    "\n",
    "from scipy.sparse import csr_matrix, lil_matrix\n",
    "import scipy as sp"
   ]
  },
  {
   "cell_type": "code",
   "execution_count": 2,
   "metadata": {},
   "outputs": [],
   "source": [
    "def random_initializing():\n",
    "    '''\n",
    "    set a random cone's parameters\n",
    "    return : R_0 = (x_0,y_0,z_0),n = (n_x,n_y,n_z),thta_cs\n",
    "    \n",
    "    '''\n",
    "    theta_cs = np.random.uniform(0,pi/2)\n",
    "    theta = np.random.uniform(0,pi)\n",
    "    phi = np.random.uniform(0,2*pi)\n",
    "    x_0 = np.random.uniform(-1,1)\n",
    "    y_0 = np.random.uniform(-1,1)\n",
    "    z_0 = np.random.uniform(-1,1)\n",
    "    n_x = sin(theta) * cos(phi) \n",
    "    n_y = sin(theta) * sin(phi) \n",
    "    n_z = cos(theta) \n",
    "    return x_0,y_0,z_0,theta_cs,n_x,n_y,n_z"
   ]
  },
  {
   "cell_type": "code",
   "execution_count": 3,
   "metadata": {},
   "outputs": [],
   "source": [
    "def space(mesh_theta,mesh_phi):\n",
    "    '''\n",
    "    discrete the parameter space: divide theta into (mesh_theta = N_theta = pi / delta_theta) parts\n",
    "                                  divide phi into (mesh_phi = N_phi = 2 pi / delta_phi) parts\n",
    "    return: a mesh_theta*mesh_phi dimension matrix wich its elements are theta,phi of that point\n",
    "    \n",
    "    '''\n",
    "    #Meshgrid\n",
    "    phi = np.linspace(0, 2*pi , mesh_phi)\n",
    "    theta = np.linspace(0, pi , mesh_theta)\n",
    "    phi_s, theta_s = np.meshgrid(phi,theta)\n",
    "    return phi_s,theta_s"
   ]
  },
  {
   "cell_type": "code",
   "execution_count": 4,
   "metadata": {},
   "outputs": [],
   "source": [
    "def cone_sphere_intersection_with_error(x_0,y_0,z_0,theta_cs,n_x,n_y,n_z,phi_s,theta_s,mesh_theta,mesh_phi):\n",
    "    '''\n",
    "    find intersection curve's points numerically(by finding error for all possible theta and phi) and show them with a matrix which its nonzero(1) elements are intersection points\n",
    "    input : x_0,y_0,z_0,theta_cs,n_x,n_y,n_z : cone parameters\n",
    "            phi_s,theta_s : from \"space\" function - discrete parameter space\n",
    "            mesh_theta,mesh_phi : they use for calculate the error (find delta_theta and delta_phi)\n",
    "    return : a mesh_theta*mesh_phi dimension matrix which its nonzero(1) elements are intersection points\n",
    "    \n",
    "    '''\n",
    "    \n",
    "    delta_theta = pi / mesh_theta\n",
    "    delta_phi = 2 * pi / mesh_phi\n",
    "    \n",
    "    sin_theta = np.sin(theta_s)\n",
    "    cos_theta = np.cos(theta_s) \n",
    "    sin_phi = np.sin(phi_s)\n",
    "    cos_phi = np.cos(phi_s)\n",
    "    \n",
    "    X = sin_theta * cos_phi - x_0\n",
    "    Y = sin_theta * sin_phi - y_0\n",
    "    Z = cos_theta - z_0\n",
    "    rsize = np.sqrt(X**2 + Y**2 + Z**2)\n",
    "    \n",
    "    function = X * n_x + Y * n_y + Z * n_z - np.multiply(rsize,np.cos(theta_cs))\n",
    "    \n",
    "    deltaf_deltatheta = cos_theta * (cos_phi * n_x + sin_phi * n_y) - sin_theta * n_z + np.cos(theta_cs) * np.divide((cos_theta * (cos_phi * x_0 + sin_phi * y_0) - sin_theta * z_0) , rsize)\n",
    "    deltaf_deltaphi = sin_theta * (cos_phi * n_y - sin_phi * n_x) + np.cos(theta_cs) * sin_theta * np.divide((cos_phi * y_0 - sin_phi * x_0) , rsize)\n",
    "    error_function = np.sqrt(np.add(np.multiply(deltaf_deltaphi,deltaf_deltaphi) * (delta_phi) ** 2,np.multiply(deltaf_deltatheta,deltaf_deltatheta) * (delta_theta) ** 2))\n",
    "    \n",
    "    function[abs(function) <= error_function] = 0\n",
    "    function[abs(function) != 0] = -1\n",
    "    function = function + 1\n",
    "    if function.any() == 0:\n",
    "        theta_cs = -1 # for cones which have no interaction\n",
    "        \n",
    "    return function, theta_cs"
   ]
  },
  {
   "cell_type": "code",
   "execution_count": 5,
   "metadata": {},
   "outputs": [],
   "source": [
    "def data_genarate_with_error_random(mesh_theta,mesh_phi,phi_s,theta_s):\n",
    "    '''\n",
    "    find intersection curve's points numerically(by finding error for all possible theta and phi) for a random cone and show them with a matrix which its nonzero(1) elements are intersection points\n",
    "    input :mesh_theta,mesh_phi : they use for calculate the error (find delta_theta and delta_phi)\n",
    "    return : intersection :a mesh_theta*mesh_phi dimension sparse matrix which its nonzero(1) elements are intersection points\n",
    "             x_0,y_0,z_0,theta_cs,n_x,n_y,n_z : the random cone's parameters\n",
    "    '''\n",
    "    #phi_s,theta_s = space(mesh_theta,mesh_phi)\n",
    "    x_0,y_0,z_0,theta_cs,n_x,n_y,n_z = random_initializing()\n",
    "    intersection, theta_cs = cone_sphere_intersection_with_error(x_0,y_0,z_0,theta_cs,n_x,n_y,n_z,phi_s,theta_s,mesh_theta,mesh_phi)\n",
    "    return sp.sparse.csr_matrix(intersection.reshape(-1)),x_0,y_0,z_0,theta_cs,n_x,n_y,n_z"
   ]
  },
  {
   "cell_type": "code",
   "execution_count": 6,
   "metadata": {},
   "outputs": [],
   "source": [
    "def sample(n_sample,mesh_theta,mesh_phi):\n",
    "    '''\n",
    "    generate data with special shape for our estimator\n",
    "    input :mesh_theta,mesh_phi : number of features = mesh_theta*mesh_phi -> reshape(-1)\n",
    "    return : x: shape(n_sample,n_feature) sparse matrix for optimization the run run time\n",
    "             y: shape(n_sample,1) 1 output-theta_cs as an output\n",
    "             the data just include cones with intersection\n",
    "    '''\n",
    "    x = lil_matrix((n_sample,mesh_theta * mesh_phi))\n",
    "    y = np.zeros((n_sample))\n",
    "    phi_s,theta_s = space(mesh_theta,mesh_phi)\n",
    "    i = 0\n",
    "    while i < n_sample:\n",
    "        intersection,x_0,y_0,z_0,theta_cs,n_x,n_y,n_z = data_genarate_with_error_random(mesh_theta,mesh_phi,phi_s,theta_s)\n",
    "        if theta_cs != -1: # creat samples just with cones that have interaction\n",
    "            y[i] = theta_cs\n",
    "            x[i,:] = sp.sparse.csr_matrix(intersection)\n",
    "            i = i + 1\n",
    "    return x, y"
   ]
  },
  {
   "cell_type": "code",
   "execution_count": 7,
   "metadata": {},
   "outputs": [],
   "source": [
    "mesh_theta, mesh_phi = 1000, 2000\n",
    "phi_s1,theta_s1 = space(mesh_theta,mesh_phi)\n",
    "phi_s2,theta_s2 = space(mesh_theta,mesh_phi)\n",
    "\n",
    "theta_1, phi_1 = 70*pi/180, 100*pi/180\n",
    "\n",
    "x_01, y_01, z_01, theta_cs1, n_x1, n_y1, n_z1 = 0.3, 0.6, -0.2, 70*pi/180, sin(theta_1) * cos(phi_1), sin(theta_1) * sin(phi_1), cos(theta_1) \n",
    "\n",
    "theta_2, phi_2 = 40*pi/180, 70*pi/180\n",
    "\n",
    "x_02, y_02, z_02, theta_cs2, n_x2, n_y2, n_z2 = -0.1, 0.2, 0.1, 30*pi/180, sin(theta_2) * cos(phi_2), sin(theta_2) * sin(phi_2), cos(theta_2) \n"
   ]
  },
  {
   "cell_type": "code",
   "execution_count": 8,
   "metadata": {},
   "outputs": [],
   "source": [
    "intersection1, theta_cs1 = cone_sphere_intersection_with_error(x_01,y_01,z_01,theta_cs1,n_x1,n_y1,n_z1,phi_s1,theta_s1,mesh_theta,mesh_phi)\n",
    "intersection2, theta_cs2 = cone_sphere_intersection_with_error(x_02,y_02,z_02,theta_cs2,n_x2,n_y2,n_z2,phi_s2,theta_s2,mesh_theta,mesh_phi)"
   ]
  },
  {
   "cell_type": "code",
   "execution_count": 9,
   "metadata": {},
   "outputs": [],
   "source": [
    "shape = ((intersection1 + intersection2) > 0).astype(int)"
   ]
  },
  {
   "cell_type": "code",
   "execution_count": 10,
   "metadata": {},
   "outputs": [
    {
     "data": {
      "text/plain": [
       "<matplotlib.image.AxesImage at 0x1964de027f0>"
      ]
     },
     "execution_count": 10,
     "metadata": {},
     "output_type": "execute_result"
    },
    {
     "data": {
      "image/png": "[encoded data removed]",
      "text/plain": [
       "<Figure size 1080x1080 with 1 Axes>"
      ]
     },
     "metadata": {
      "needs_background": "light"
     },
     "output_type": "display_data"
    }
   ],
   "source": [
    "plt.rcParams['figure.figsize'] = 15,15\n",
    "plt.imshow(shape,cmap = \"Greys\")"
   ]
  },
  {
   "cell_type": "code",
   "execution_count": 11,
   "metadata": {},
   "outputs": [],
   "source": [
    "on_points = np.nonzero(shape)"
   ]
  },
  {
   "cell_type": "code",
   "execution_count": 12,
   "metadata": {},
   "outputs": [],
   "source": [
    "y_max = np.max(on_points[0])\n",
    "y_min = np.min(on_points[0])\n",
    "x_min = np.min(on_points[1])\n",
    "x_max = np.max(on_points[1])"
   ]
  },
  {
   "cell_type": "code",
   "execution_count": 13,
   "metadata": {},
   "outputs": [],
   "source": [
    "shape_finded = shape[y_min-1:y_max+1, x_min-1:x_max+1]"
   ]
  },
  {
   "cell_type": "code",
   "execution_count": 80,
   "metadata": {},
   "outputs": [
    {
     "data": {
      "text/plain": [
       "<matplotlib.image.AxesImage at 0x19651424630>"
      ]
     },
     "execution_count": 80,
     "metadata": {},
     "output_type": "execute_result"
    },
    {
     "data": {
      "image/png": "[encoded data removed]",
      "text/plain": [
       "<Figure size 720x720 with 1 Axes>"
      ]
     },
     "metadata": {
      "needs_background": "light"
     },
     "output_type": "display_data"
    }
   ],
   "source": [
    "plt.rcParams['figure.figsize'] = 10,10\n",
    "plt.imshow(shape_finded,cmap = \"Greys\")"
   ]
  },
  {
   "cell_type": "code",
   "execution_count": 15,
   "metadata": {},
   "outputs": [],
   "source": [
    "n_H, n_W = shape_finded.shape[0], shape_finded.shape[1]\n",
    "fs = 5\n",
    "ps = (fs - 1)//2"
   ]
  },
  {
   "cell_type": "code",
   "execution_count": 16,
   "metadata": {},
   "outputs": [],
   "source": [
    "coarse_grained = np.zeros((n_H+2*ps, n_W+2*ps))"
   ]
  },
  {
   "cell_type": "code",
   "execution_count": 17,
   "metadata": {},
   "outputs": [],
   "source": [
    "coarse_grained[ps:-ps, ps:-ps] = np.copy(shape_finded)"
   ]
  },
  {
   "cell_type": "code",
   "execution_count": 18,
   "metadata": {},
   "outputs": [
    {
     "data": {
      "image/png": "[encoded data removed]",
      "text/plain": [
       "<Figure size 504x504 with 1 Axes>"
      ]
     },
     "metadata": {
      "needs_background": "light"
     },
     "output_type": "display_data"
    }
   ],
   "source": [
    "from scipy import ndimage\n",
    "plt.rcParams['figure.figsize'] = 7, 7\n",
    "limit = 14\n",
    "one_conv = np.ones((fs, fs)).astype(int)\n",
    "img = (ndimage.convolve(coarse_grained, one_conv))\n",
    "plt.imshow(img + (img>limit)*img)\n",
    "ax = plt.gca()\n",
    "ax.set_aspect('equal')"
   ]
  },
  {
   "cell_type": "code",
   "execution_count": 19,
   "metadata": {},
   "outputs": [],
   "source": [
    "Filter_intersections = img>limit"
   ]
  },
  {
   "cell_type": "code",
   "execution_count": 20,
   "metadata": {},
   "outputs": [],
   "source": [
    "original_img = np.copy(coarse_grained)\n",
    "filter_img = Filter_intersections*original_img*2 + original_img"
   ]
  },
  {
   "cell_type": "code",
   "execution_count": 21,
   "metadata": {},
   "outputs": [
    {
     "data": {
      "text/plain": [
       "<matplotlib.colorbar.Colorbar at 0x1964f456048>"
      ]
     },
     "execution_count": 21,
     "metadata": {},
     "output_type": "execute_result"
    },
    {
     "data": {
      "image/png": "[encoded data removed]",
      "text/plain": [
       "<Figure size 504x504 with 2 Axes>"
      ]
     },
     "metadata": {
      "needs_background": "light"
     },
     "output_type": "display_data"
    }
   ],
   "source": [
    "plt.imshow(filter_img)\n",
    "plt.colorbar()"
   ]
  },
  {
   "cell_type": "markdown",
   "metadata": {},
   "source": [
    "# Tracing Curve"
   ]
  },
  {
   "cell_type": "code",
   "execution_count": 22,
   "metadata": {},
   "outputs": [],
   "source": [
    "window_size = 10\n",
    "trace_window = np.zeros((window_size, 2*window_size))\n",
    "x_0 = 50\n",
    "y_0 = 50\n",
    "Lx = filter_img.shape[1]\n",
    "Ly = filter_img.shape[0]\n",
    "work_space = np.zeros((Ly + 4*window_size, Lx + 8*window_size))\n",
    "work_space[2*window_size:-2*window_size, 4*window_size:-4*window_size] = np.copy(filter_img)"
   ]
  },
  {
   "cell_type": "code",
   "execution_count": 23,
   "metadata": {},
   "outputs": [
    {
     "data": {
      "text/plain": [
       "<matplotlib.colorbar.Colorbar at 0x1964f505cf8>"
      ]
     },
     "execution_count": 23,
     "metadata": {},
     "output_type": "execute_result"
    },
    {
     "data": {
      "image/png": "[encoded data removed]",
      "text/plain": [
       "<Figure size 504x504 with 2 Axes>"
      ]
     },
     "metadata": {
      "needs_background": "light"
     },
     "output_type": "display_data"
    }
   ],
   "source": [
    "plt.imshow(work_space)\n",
    "plt.colorbar()"
   ]
  },
  {
   "cell_type": "code",
   "execution_count": 24,
   "metadata": {},
   "outputs": [],
   "source": [
    "from math import sqrt\n",
    "def window_grad(window, window_size, x_c, y_c):\n",
    "    flag = 0\n",
    "    L = window_size*2 + 2*(window_size-2)\n",
    "    #print(L)\n",
    "    border_up = window[0,:]\n",
    "    border_right = window[1:-1,-1]\n",
    "    border_down = window[-1,:]\n",
    "    border_left = window[1:-1,0]\n",
    "    # border of the window\n",
    "    border = np.concatenate([border_up, border_right, border_down[::-1], border_left[::-1]]).astype(float)\n",
    "    \n",
    "    # count nonzero neighbors \n",
    "    m = border!=0\n",
    "    m = m.astype(int)\n",
    "    r = np.roll(m,1)\n",
    "    s = r - m\n",
    "    right_lim = np.nonzero(np.roll(s,-1)>0)[0]\n",
    "    left_lim = np.nonzero(s<0)[0]\n",
    "    \n",
    "    N_road = len(right_lim)\n",
    "    \n",
    "    if N_road == 2:\n",
    "        NB1 = (right_lim[0]+left_lim[0])//2\n",
    "        NB2 = (right_lim[1]+left_lim[1])//2\n",
    "        \n",
    "        NB1_cor = border_coordinate[NB1]\n",
    "        NB2_cor = border_coordinate[NB2]\n",
    "        \n",
    "        \n",
    "        delta_x = NB2_cor[0] - NB1_cor[0]\n",
    "        delta_y = NB2_cor[1] - NB1_cor[1]\n",
    "        dl = sqrt(delta_x**2 + delta_y**2)\n",
    "        \n",
    "        rondx = delta_x / dl\n",
    "        rondy = delta_y / dl\n",
    "        \n",
    "        #\n",
    "\n",
    "        if np.count_nonzero(window == 1) == 0:\n",
    "            rondx = -rondx + 0.1*np.random.rand()\n",
    "            rondy = -rondy + 0.1*np.random.rand()\n",
    "            \n",
    "        \n",
    "    \n",
    "#         # circle\n",
    "#         theta = np.arctan2(rondy,rondx)\n",
    "#         theta0 = np.arctan2(grad_memory[-1][1],grad_memory[-1][0])\n",
    "        \n",
    "#         if abs(theta - theta0) > np.pi/10:\n",
    "#             rondx = (grad_memory[-1][0]+rondx)/2\n",
    "#             rondy = (grad_memory[-1][1]+rondy)/2\n",
    "        \n",
    "        #color the window\n",
    "        mask = np.copy(window)\n",
    "        mask[mask>0] = 2\n",
    "        work_space[int(y_c):int(y_c+window_size), int(x_c):int(x_c+2*window_size)] = np.copy(mask)\n",
    "        \n",
    "        # correced X_c & Y_c\n",
    "        x_c = x_c + (NB2_cor[0] + NB1_cor[0])//2 - window_size\n",
    "        y_c = y_c + (NB2_cor[1] + NB1_cor[1])//2 - window_size//2\n",
    "        \n",
    "        \n",
    "        \n",
    "        flag = 1\n",
    "    else:\n",
    "        flag = 0\n",
    "        rondx, rondy = 0, 0\n",
    "    \n",
    "    return rondx, rondy, x_c, y_c, flag\n",
    "        "
   ]
  },
  {
   "cell_type": "code",
   "execution_count": 25,
   "metadata": {},
   "outputs": [],
   "source": [
    "def move_window(x_c, y_c, window_size):\n",
    "    window = work_space[int(y_c):int(y_c+window_size),int(x_c):int(x_c+2*window_size)]\n",
    "    return window"
   ]
  },
  {
   "cell_type": "code",
   "execution_count": 26,
   "metadata": {},
   "outputs": [],
   "source": [
    "window_size = 10\n",
    "trace_window = np.zeros((window_size, 2*window_size))\n",
    "x_0 = 50\n",
    "y_0 = 50\n",
    "Lx = filter_img.shape[1]\n",
    "Ly = filter_img.shape[0]\n",
    "work_space = np.zeros((Ly + 2*window_size, Lx + 4*window_size))\n",
    "work_space[window_size:-window_size, 2*window_size:-2*window_size] = np.copy(filter_img)\n"
   ]
  },
  {
   "cell_type": "code",
   "execution_count": 27,
   "metadata": {},
   "outputs": [],
   "source": [
    "border_coordinate = []\n",
    "for i in range(2*window_size):\n",
    "    border_coordinate.append([i+1, 1])\n",
    "    \n",
    "for i in range(window_size-2):\n",
    "    border_coordinate.append([2*window_size, i+2])\n",
    "    \n",
    "for i in range(2*window_size):\n",
    "    border_coordinate.append([2*window_size-i, window_size])\n",
    "    \n",
    "for i in range(window_size-2):\n",
    "    border_coordinate.append([1,window_size-i-1])"
   ]
  },
  {
   "cell_type": "code",
   "execution_count": 28,
   "metadata": {},
   "outputs": [
    {
     "data": {
      "text/plain": [
       "5341"
      ]
     },
     "execution_count": 28,
     "metadata": {},
     "output_type": "execute_result"
    }
   ],
   "source": [
    "on_curve_points = np.nonzero(work_space)\n",
    "N = np.count_nonzero(work_space)\n",
    "N"
   ]
  },
  {
   "cell_type": "code",
   "execution_count": 29,
   "metadata": {
    "scrolled": true
   },
   "outputs": [],
   "source": [
    "\n",
    "n_step = 5000\n",
    "i = 500\n",
    "x_c, y_c = on_curve_points[1][i], on_curve_points[0][i]\n",
    "#x_c, y_c = 200,180\n",
    "step = 3\n",
    "h = 3\n",
    "X = []\n",
    "Y = []\n",
    "grad_memory = [[0.7071067811865476, -0.7071067811865476]]\n",
    "flag = 0\n",
    "for i in range(n_step):\n",
    "    \n",
    "    window = move_window(x_c, y_c, window_size)\n",
    "    X.append(x_c)\n",
    "    Y.append(y_c)\n",
    "    if np.count_nonzero(window > 2):\n",
    "        #print('wo')\n",
    "        x_c = int(x_c + (grad_memory[-3][0]+grad_memory[-2][0]+grad_memory[-1][0])/3*4*step)\n",
    "        y_c = int(y_c + (grad_memory[-3][1]+grad_memory[-2][1]+grad_memory[-1][1])/3*4*step)\n",
    "#         x_c = int(x_c + grad_memory[-1][0]*h + 0.5 * (grad_memory[-1][0] - grad_memory[-2][0])/(X[-1] - X[-2]+1) * h**2)\n",
    "#         y_c = int(y_c + grad_memory[-1][1]*h + 0.5 * (grad_memory[-1][1] - grad_memory[-2][1])/(Y[-1] - Y[-2]+1) * h**2)\n",
    "        \n",
    "        \n",
    "    else:\n",
    "        \n",
    "        \n",
    "        dx, dy, x_c, y_c, flag = window_grad(window, window_size, x_c, y_c)\n",
    "        \n",
    "#         if i>20 and abs(np.mean(X[-10:-1]) - X[-1])<2:\n",
    "#             print('loop',X[-1], abs(np.mean(X[-10:-1]) - X[-1]))\n",
    "#             x_c = x_c + (np.random.randint(0,2))\n",
    "#             y_c = y_c + (np.random.randint(0,2))\n",
    "        if flag == 1:\n",
    "#             x_c = int(x_c + (dx+0.1*np.random.rand())*step)\n",
    "#             y_c = int(y_c + (dy+0.1*np.random.rand())*step)\n",
    "            x_c = int(x_c + (dx)*step)\n",
    "            y_c = int(y_c + (dy)*step)\n",
    "            grad_memory.append([dx, dy])\n",
    "            #print('yes')\n",
    "        else:\n",
    "            #print('else')\n",
    "#             x_c = int(x_c + (grad_memory[-1][0] + 0.001*np.random.rand())/2*step)\n",
    "#             y_c = int(y_c + (grad_memory[-1][1] + 0.001*np.random.rand())/2*step)\n",
    "            x_c = int(x_c + (grad_memory[-1][0])/2*step)\n",
    "            y_c = int(y_c + (grad_memory[-1][1])/2*step)\n",
    "        "
   ]
  },
  {
   "cell_type": "code",
   "execution_count": 30,
   "metadata": {},
   "outputs": [
    {
     "data": {
      "text/plain": [
       "<matplotlib.image.AxesImage at 0x19650d74208>"
      ]
     },
     "execution_count": 30,
     "metadata": {},
     "output_type": "execute_result"
    },
    {
     "data": {
      "image/png": "[encoded data removed]",
      "text/plain": [
       "<Figure size 504x504 with 1 Axes>"
      ]
     },
     "metadata": {
      "needs_background": "light"
     },
     "output_type": "display_data"
    }
   ],
   "source": [
    "plt.imshow(work_space)"
   ]
  },
  {
   "cell_type": "code",
   "execution_count": 31,
   "metadata": {},
   "outputs": [],
   "source": [
    "curve_1 = np.copy(work_space)\n",
    "curve_1[curve_1 == 1] = 0\n",
    "intersection_curve_12 = np.copy(curve_1)\n",
    "intersection_curve_12[intersection_curve_12 != 3] = 0\n",
    "curve_1[curve_1>0] = 1\n",
    "work_space[work_space == 2] = 0\n",
    "work_space = work_space - 2/3*intersection_curve_12"
   ]
  },
  {
   "cell_type": "code",
   "execution_count": 32,
   "metadata": {},
   "outputs": [
    {
     "data": {
      "text/plain": [
       "<matplotlib.image.AxesImage at 0x19650dcd208>"
      ]
     },
     "execution_count": 32,
     "metadata": {},
     "output_type": "execute_result"
    },
    {
     "data": {
      "image/png": "[encoded data removed]",
      "text/plain": [
       "<Figure size 504x504 with 1 Axes>"
      ]
     },
     "metadata": {
      "needs_background": "light"
     },
     "output_type": "display_data"
    }
   ],
   "source": [
    "plt.imshow(curve_1)"
   ]
  },
  {
   "cell_type": "code",
   "execution_count": 33,
   "metadata": {},
   "outputs": [
    {
     "data": {
      "text/plain": [
       "<matplotlib.colorbar.Colorbar at 0x19650e52e48>"
      ]
     },
     "execution_count": 33,
     "metadata": {},
     "output_type": "execute_result"
    },
    {
     "data": {
      "image/png": "[encoded data removed]",
      "text/plain": [
       "<Figure size 504x504 with 2 Axes>"
      ]
     },
     "metadata": {
      "needs_background": "light"
     },
     "output_type": "display_data"
    }
   ],
   "source": [
    "plt.imshow(work_space)\n",
    "plt.colorbar()"
   ]
  }
 ],
 "metadata": {
  "kernelspec": {
   "display_name": "Python 3",
   "language": "python",
   "name": "python3"
  },
  "language_info": {
   "codemirror_mode": {
    "name": "ipython",
    "version": 3
   },
   "file_extension": ".py",
   "mimetype": "text/x-python",
   "name": "python",
   "nbconvert_exporter": "python",
   "pygments_lexer": "ipython3",
   "version": "3.7.3"
  }
 },
 "nbformat": 4,
 "nbformat_minor": 4
}
